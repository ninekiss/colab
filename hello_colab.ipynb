{
  "nbformat": 4,
  "nbformat_minor": 0,
  "metadata": {
    "colab": {
      "provenance": [],
      "collapsed_sections": [],
      "toc_visible": true,
      "authorship_tag": "ABX9TyPTF0X1umkQn3s7rS5+W43D",
      "include_colab_link": true
    },
    "kernelspec": {
      "name": "python3",
      "display_name": "Python 3"
    },
    "language_info": {
      "name": "python"
    }
  },
  "cells": [
    {
      "cell_type": "markdown",
      "metadata": {
        "id": "view-in-github",
        "colab_type": "text"
      },
      "source": [
        "<a href=\"https://colab.research.google.com/github/ninekiss/colab/blob/getting_start/hello_colab.ipynb\" target=\"_parent\"><img src=\"https://colab.research.google.com/assets/colab-badge.svg\" alt=\"Open In Colab\"/></a>"
      ]
    },
    {
      "cell_type": "markdown",
      "source": [
        "# **Hello Colab**\n",
        "\n",
        "*demo*\n",
        "\n",
        "[colab demo](https://colab.research.google.com/drive/1r6MPcdE2LwNpIbStFJv0yXZgrbhuvF7j#scrollTo=B9bsASVqdL43)\n",
        "\n",
        "⚡ 🌈\n"
      ],
      "metadata": {
        "id": "B9bsASVqdL43"
      }
    },
    {
      "cell_type": "code",
      "source": [
        "print(\"Hello Colab\")"
      ],
      "metadata": {
        "colab": {
          "base_uri": "https://localhost:8080/"
        },
        "id": "clA6nONwe4sk",
        "outputId": "045ce100-54dc-4a54-b3ff-37d5ea31e72a"
      },
      "execution_count": 7,
      "outputs": [
        {
          "output_type": "stream",
          "name": "stdout",
          "text": [
            "Hello Colab\n"
          ]
        }
      ]
    }
  ]
}